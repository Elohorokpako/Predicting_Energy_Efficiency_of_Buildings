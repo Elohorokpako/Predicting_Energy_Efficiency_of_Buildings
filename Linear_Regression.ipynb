{
 "cells": [
  {
   "cell_type": "code",
   "execution_count": 2,
   "id": "03540fc4",
   "metadata": {},
   "outputs": [
    {
     "data": {
      "text/html": [
       "<div>\n",
       "<style scoped>\n",
       "    .dataframe tbody tr th:only-of-type {\n",
       "        vertical-align: middle;\n",
       "    }\n",
       "\n",
       "    .dataframe tbody tr th {\n",
       "        vertical-align: top;\n",
       "    }\n",
       "\n",
       "    .dataframe thead th {\n",
       "        text-align: right;\n",
       "    }\n",
       "</style>\n",
       "<table border=\"1\" class=\"dataframe\">\n",
       "  <thead>\n",
       "    <tr style=\"text-align: right;\">\n",
       "      <th></th>\n",
       "      <th>date</th>\n",
       "      <th>Appliances</th>\n",
       "      <th>lights</th>\n",
       "      <th>T1</th>\n",
       "      <th>RH_1</th>\n",
       "      <th>T2</th>\n",
       "      <th>RH_2</th>\n",
       "      <th>T3</th>\n",
       "      <th>RH_3</th>\n",
       "      <th>T4</th>\n",
       "      <th>...</th>\n",
       "      <th>T9</th>\n",
       "      <th>RH_9</th>\n",
       "      <th>T_out</th>\n",
       "      <th>Press_mm_hg</th>\n",
       "      <th>RH_out</th>\n",
       "      <th>Windspeed</th>\n",
       "      <th>Visibility</th>\n",
       "      <th>Tdewpoint</th>\n",
       "      <th>rv1</th>\n",
       "      <th>rv2</th>\n",
       "    </tr>\n",
       "  </thead>\n",
       "  <tbody>\n",
       "    <tr>\n",
       "      <th>0</th>\n",
       "      <td>2016-01-11 17:00:00</td>\n",
       "      <td>60</td>\n",
       "      <td>30</td>\n",
       "      <td>19.89</td>\n",
       "      <td>47.596667</td>\n",
       "      <td>19.2</td>\n",
       "      <td>44.790000</td>\n",
       "      <td>19.79</td>\n",
       "      <td>44.730000</td>\n",
       "      <td>19.000000</td>\n",
       "      <td>...</td>\n",
       "      <td>17.033333</td>\n",
       "      <td>45.53</td>\n",
       "      <td>6.600000</td>\n",
       "      <td>733.5</td>\n",
       "      <td>92.0</td>\n",
       "      <td>7.000000</td>\n",
       "      <td>63.000000</td>\n",
       "      <td>5.3</td>\n",
       "      <td>13.275433</td>\n",
       "      <td>13.275433</td>\n",
       "    </tr>\n",
       "    <tr>\n",
       "      <th>1</th>\n",
       "      <td>2016-01-11 17:10:00</td>\n",
       "      <td>60</td>\n",
       "      <td>30</td>\n",
       "      <td>19.89</td>\n",
       "      <td>46.693333</td>\n",
       "      <td>19.2</td>\n",
       "      <td>44.722500</td>\n",
       "      <td>19.79</td>\n",
       "      <td>44.790000</td>\n",
       "      <td>19.000000</td>\n",
       "      <td>...</td>\n",
       "      <td>17.066667</td>\n",
       "      <td>45.56</td>\n",
       "      <td>6.483333</td>\n",
       "      <td>733.6</td>\n",
       "      <td>92.0</td>\n",
       "      <td>6.666667</td>\n",
       "      <td>59.166667</td>\n",
       "      <td>5.2</td>\n",
       "      <td>18.606195</td>\n",
       "      <td>18.606195</td>\n",
       "    </tr>\n",
       "    <tr>\n",
       "      <th>2</th>\n",
       "      <td>2016-01-11 17:20:00</td>\n",
       "      <td>50</td>\n",
       "      <td>30</td>\n",
       "      <td>19.89</td>\n",
       "      <td>46.300000</td>\n",
       "      <td>19.2</td>\n",
       "      <td>44.626667</td>\n",
       "      <td>19.79</td>\n",
       "      <td>44.933333</td>\n",
       "      <td>18.926667</td>\n",
       "      <td>...</td>\n",
       "      <td>17.000000</td>\n",
       "      <td>45.50</td>\n",
       "      <td>6.366667</td>\n",
       "      <td>733.7</td>\n",
       "      <td>92.0</td>\n",
       "      <td>6.333333</td>\n",
       "      <td>55.333333</td>\n",
       "      <td>5.1</td>\n",
       "      <td>28.642668</td>\n",
       "      <td>28.642668</td>\n",
       "    </tr>\n",
       "    <tr>\n",
       "      <th>3</th>\n",
       "      <td>2016-01-11 17:30:00</td>\n",
       "      <td>50</td>\n",
       "      <td>40</td>\n",
       "      <td>19.89</td>\n",
       "      <td>46.066667</td>\n",
       "      <td>19.2</td>\n",
       "      <td>44.590000</td>\n",
       "      <td>19.79</td>\n",
       "      <td>45.000000</td>\n",
       "      <td>18.890000</td>\n",
       "      <td>...</td>\n",
       "      <td>17.000000</td>\n",
       "      <td>45.40</td>\n",
       "      <td>6.250000</td>\n",
       "      <td>733.8</td>\n",
       "      <td>92.0</td>\n",
       "      <td>6.000000</td>\n",
       "      <td>51.500000</td>\n",
       "      <td>5.0</td>\n",
       "      <td>45.410389</td>\n",
       "      <td>45.410389</td>\n",
       "    </tr>\n",
       "    <tr>\n",
       "      <th>4</th>\n",
       "      <td>2016-01-11 17:40:00</td>\n",
       "      <td>60</td>\n",
       "      <td>40</td>\n",
       "      <td>19.89</td>\n",
       "      <td>46.333333</td>\n",
       "      <td>19.2</td>\n",
       "      <td>44.530000</td>\n",
       "      <td>19.79</td>\n",
       "      <td>45.000000</td>\n",
       "      <td>18.890000</td>\n",
       "      <td>...</td>\n",
       "      <td>17.000000</td>\n",
       "      <td>45.40</td>\n",
       "      <td>6.133333</td>\n",
       "      <td>733.9</td>\n",
       "      <td>92.0</td>\n",
       "      <td>5.666667</td>\n",
       "      <td>47.666667</td>\n",
       "      <td>4.9</td>\n",
       "      <td>10.084097</td>\n",
       "      <td>10.084097</td>\n",
       "    </tr>\n",
       "  </tbody>\n",
       "</table>\n",
       "<p>5 rows × 29 columns</p>\n",
       "</div>"
      ],
      "text/plain": [
       "                 date  Appliances  lights     T1       RH_1    T2       RH_2  \\\n",
       "0 2016-01-11 17:00:00          60      30  19.89  47.596667  19.2  44.790000   \n",
       "1 2016-01-11 17:10:00          60      30  19.89  46.693333  19.2  44.722500   \n",
       "2 2016-01-11 17:20:00          50      30  19.89  46.300000  19.2  44.626667   \n",
       "3 2016-01-11 17:30:00          50      40  19.89  46.066667  19.2  44.590000   \n",
       "4 2016-01-11 17:40:00          60      40  19.89  46.333333  19.2  44.530000   \n",
       "\n",
       "      T3       RH_3         T4  ...         T9   RH_9     T_out  Press_mm_hg  \\\n",
       "0  19.79  44.730000  19.000000  ...  17.033333  45.53  6.600000        733.5   \n",
       "1  19.79  44.790000  19.000000  ...  17.066667  45.56  6.483333        733.6   \n",
       "2  19.79  44.933333  18.926667  ...  17.000000  45.50  6.366667        733.7   \n",
       "3  19.79  45.000000  18.890000  ...  17.000000  45.40  6.250000        733.8   \n",
       "4  19.79  45.000000  18.890000  ...  17.000000  45.40  6.133333        733.9   \n",
       "\n",
       "   RH_out  Windspeed  Visibility  Tdewpoint        rv1        rv2  \n",
       "0    92.0   7.000000   63.000000        5.3  13.275433  13.275433  \n",
       "1    92.0   6.666667   59.166667        5.2  18.606195  18.606195  \n",
       "2    92.0   6.333333   55.333333        5.1  28.642668  28.642668  \n",
       "3    92.0   6.000000   51.500000        5.0  45.410389  45.410389  \n",
       "4    92.0   5.666667   47.666667        4.9  10.084097  10.084097  \n",
       "\n",
       "[5 rows x 29 columns]"
      ]
     },
     "execution_count": 2,
     "metadata": {},
     "output_type": "execute_result"
    }
   ],
   "source": [
    "#import library to load the dataset, the dataset contains a date, so we parse the date as date.\n",
    "#In this ML task, the date column was not used though.\n",
    "import pandas as pd\n",
    "df=pd.read_csv('energydata_complete.csv',parse_dates=['date'])\n",
    "df.head()"
   ]
  },
  {
   "cell_type": "markdown",
   "id": "92838dad",
   "metadata": {},
   "source": [
    "### Q1\n",
    "From the dataset, fit a linear model on the relationship between the temperature in the living room in Celsius \n",
    "**(x = T2)** and the temperature outside the building **(y = T6)**.\n",
    "\n",
    "**What is the Root Mean Squared error in 3 d.p?**"
   ]
  },
  {
   "cell_type": "code",
   "execution_count": 3,
   "id": "976517d7",
   "metadata": {},
   "outputs": [],
   "source": [
    "#this is a simple linear regression problem as there is just one predictor ('T2')\n",
    "#first, import the libraries needed\n",
    "from sklearn.linear_model import LinearRegression\n",
    "from sklearn.metrics import mean_squared_error\n",
    "import numpy as np"
   ]
  },
  {
   "cell_type": "code",
   "execution_count": 4,
   "id": "251a54cb",
   "metadata": {},
   "outputs": [
    {
     "name": "stdout",
     "output_type": "stream",
     "text": [
      "Root Mean Squared Error = 3.644\n"
     ]
    }
   ],
   "source": [
    "#select the columns needed to solve the problem\n",
    "X=df[['T2']]\n",
    "y=df['T6']\n",
    "\n",
    "#instantiate the model and fit to the dataset\n",
    "model=LinearRegression()\n",
    "model.fit(X,y)\n",
    "\n",
    "#generate the predictions made by the model\n",
    "predict=model.predict(X)\n",
    "\n",
    "#calculate the root mean squared error (by finding the square root of the mean_squared_error)\n",
    "print(f\"Root Mean Squared Error = {round(np.sqrt(mean_squared_error(y,predict)),3)}\")"
   ]
  },
  {
   "cell_type": "markdown",
   "id": "7a896695",
   "metadata": {},
   "source": [
    "### Q2\n",
    "Remove the following columns: [“date”, “lights”]. The target variable is “Appliances”. Use a 70-30 train-test set split with a  random state of 42 (for reproducibility). Normalize the dataset using the MinMaxScaler (Hint: Use the MinMaxScaler fit_transform and transform methods on the train and test set respectively). Run a multiple linear regression using the training set. \n",
    "\n",
    "Answer the following questions:\n",
    "\n",
    "**What is the Mean Absolute Error (in three decimal places) for the  training set?**"
   ]
  },
  {
   "cell_type": "code",
   "execution_count": 5,
   "id": "6d4fb75b",
   "metadata": {},
   "outputs": [],
   "source": [
    "#import the libraries to answer the question\n",
    "\n",
    "from sklearn.model_selection import train_test_split\n",
    "from sklearn.preprocessing import MinMaxScaler\n",
    "\n",
    "#drop the columns not needed in answering the question\n",
    "X=df.drop(columns=['date','lights','Appliances'])\n",
    "\n",
    "y=df['Appliances']"
   ]
  },
  {
   "cell_type": "code",
   "execution_count": 6,
   "id": "80e3e21b",
   "metadata": {},
   "outputs": [
    {
     "name": "stdout",
     "output_type": "stream",
     "text": [
      "Training data has 13814 rows\n",
      "Testing data has 5921 rows\n"
     ]
    }
   ],
   "source": [
    "#split the dataset into train and test data, use 30% of the data for testing.\n",
    "\n",
    "X_train, X_test, y_train, y_test=train_test_split(X, y, test_size=.3, random_state=42)\n",
    "\n",
    "print(f\"Training data has {len(X_train)} rows\")\n",
    "print(f\"Testing data has {len(X_test)} rows\")"
   ]
  },
  {
   "cell_type": "code",
   "execution_count": 7,
   "id": "9f5e4559",
   "metadata": {},
   "outputs": [],
   "source": [
    "#Normalize the data using the MinMaxScaler to avoid some features from having more effect in prediction of the target\n",
    "\n",
    "min_max=MinMaxScaler()\n",
    "X_train_scaled=min_max.fit_transform(X_train)\n",
    "\n",
    "X_test_scaled=min_max.transform(X_test)"
   ]
  },
  {
   "cell_type": "code",
   "execution_count": 8,
   "id": "5d1fe55b",
   "metadata": {},
   "outputs": [
    {
     "data": {
      "text/plain": [
       "LinearRegression()"
      ]
     },
     "execution_count": 8,
     "metadata": {},
     "output_type": "execute_result"
    }
   ],
   "source": [
    "#create a new linear regression model\n",
    "lr_model=LinearRegression()\n",
    "lr_model.fit(X_train_scaled, y_train)"
   ]
  },
  {
   "cell_type": "code",
   "execution_count": 9,
   "id": "2c580cfd",
   "metadata": {},
   "outputs": [
    {
     "name": "stdout",
     "output_type": "stream",
     "text": [
      "Mean Absolute Error of training data = 53.742\n"
     ]
    }
   ],
   "source": [
    "#calculate the mean_absolute_error of the training dataset\n",
    "#import the library for the solution\n",
    "from sklearn.metrics import mean_absolute_error\n",
    "\n",
    "pred=lr_model.predict(X_train_scaled)\n",
    "print(f\"Mean Absolute Error of training data = {round(mean_absolute_error(pred,y_train),3)}\")"
   ]
  },
  {
   "cell_type": "markdown",
   "id": "8c12698c",
   "metadata": {},
   "source": [
    "### Q4\n",
    "**What is the Root Mean Squared Error (in three decimal places) for the training set?**"
   ]
  },
  {
   "cell_type": "code",
   "execution_count": 10,
   "id": "e8858ed6",
   "metadata": {},
   "outputs": [
    {
     "name": "stdout",
     "output_type": "stream",
     "text": [
      "Root Mean Squared Error of training data = 95.216\n"
     ]
    }
   ],
   "source": [
    "#we take the square root of the mean squared error\n",
    "\n",
    "print(f\"Root Mean Squared Error of training data = {round(np.sqrt(mean_squared_error(pred,y_train)),3)}\")"
   ]
  },
  {
   "cell_type": "markdown",
   "id": "2df580e3",
   "metadata": {},
   "source": [
    "### Q5\n",
    "**What is the Mean Absolute Error (in three decimal places) for test set?**"
   ]
  },
  {
   "cell_type": "code",
   "execution_count": 11,
   "id": "00632231",
   "metadata": {},
   "outputs": [
    {
     "name": "stdout",
     "output_type": "stream",
     "text": [
      "Mean Absolute Error of test data = 53.643\n"
     ]
    }
   ],
   "source": [
    "test_pred=lr_model.predict(X_test_scaled)\n",
    "\n",
    "print(f\"Mean Absolute Error of test data = {round(mean_absolute_error(test_pred,y_test),3)}\")"
   ]
  },
  {
   "cell_type": "markdown",
   "id": "d78a86b4",
   "metadata": {},
   "source": [
    "### Q6\n",
    "**What is the Root Mean Squared Error (in three decimal places) for test set?**"
   ]
  },
  {
   "cell_type": "code",
   "execution_count": 12,
   "id": "f3b75197",
   "metadata": {
    "scrolled": true
   },
   "outputs": [
    {
     "name": "stdout",
     "output_type": "stream",
     "text": [
      "Root Mean Squared Error for test data = 93.64\n"
     ]
    }
   ],
   "source": [
    "print(f\"Root Mean Squared Error for test data = {round(np.sqrt(mean_squared_error(test_pred,y_test)),3)}\")"
   ]
  },
  {
   "cell_type": "markdown",
   "id": "c3e282c6",
   "metadata": {},
   "source": [
    "### Q7\n",
    "\n",
    "**Did the Model above overfit to the training set**"
   ]
  },
  {
   "cell_type": "markdown",
   "id": "f633b6e5",
   "metadata": {},
   "source": [
    "Since the training root_mean_squared_error (95.216) is similar or close to the testing root_mean_squared_error (93.64),the model is performing equally on both the training and the test data.\n",
    "\n",
    "Therefore, **the model is not Overfitting**"
   ]
  },
  {
   "cell_type": "code",
   "execution_count": 13,
   "id": "2209e076",
   "metadata": {},
   "outputs": [
    {
     "name": "stdout",
     "output_type": "stream",
     "text": [
      "Training accuracy (0.145) is approximately equal to testing accuracy (0.149) The model is therefore not overfitting\n"
     ]
    }
   ],
   "source": [
    "#alternatively, we can check the accuracy (r^2) of the model on both the training and test dataset\n",
    "training_accuracy=lr_model.score(X_train_scaled,y_train)\n",
    "testing_accuracy=lr_model.score(X_test_scaled,y_test)\n",
    "\n",
    "print(\n",
    "    f\"Training accuracy ({round(training_accuracy,3)})\", \n",
    "    f\"is approximately equal to testing accuracy ({round(testing_accuracy,3)})\",\n",
    "    \"The model is therefore not overfitting\")"
   ]
  },
  {
   "cell_type": "markdown",
   "id": "d0e46345",
   "metadata": {},
   "source": [
    "### Q8\n",
    "\n",
    "Train a ridge regression model with default parameters. \n",
    "\n",
    "**Is there any change to the root mean squared error (RMSE) when evaluated on the test set?**"
   ]
  },
  {
   "cell_type": "code",
   "execution_count": 14,
   "id": "bf449fea",
   "metadata": {},
   "outputs": [
    {
     "name": "stdout",
     "output_type": "stream",
     "text": [
      "Root Mean Squared Error for Ridge model on test dataset =  93.709\n",
      "Root Mean Squared Error for test data = 93.64\n"
     ]
    }
   ],
   "source": [
    "#import the library needed to solve the problem\n",
    "from sklearn.linear_model import Ridge\n",
    "\n",
    "#calling the various parameters from previous solutions\n",
    "X_train=X_train_scaled\n",
    "y_train=y_train\n",
    "X_test=X_test_scaled\n",
    "y_test=y_test\n",
    "\n",
    "ridge_model=Ridge()\n",
    "ridge_model.fit(X_train,y_train)\n",
    "\n",
    "pred_test=ridge_model.predict(X_test)\n",
    "print(\"Root Mean Squared Error for Ridge model on test dataset = \",\n",
    "      f\"{round(np.sqrt(mean_squared_error(pred_test, y_test)),3)}\")\n",
    "print(f\"Root Mean Squared Error for test data = {round(np.sqrt(mean_squared_error(test_pred,y_test)),3)}\")\n",
    "\n",
    "#They are aproximately the same and there is no significant change"
   ]
  },
  {
   "cell_type": "markdown",
   "id": "4345aff6",
   "metadata": {},
   "source": [
    "### Q9\n",
    "\n",
    "Train a lasso regression model with default value and obtain the new feature weights with it. \n",
    "\n",
    "**How many of the features have non-zero feature weights?**"
   ]
  },
  {
   "cell_type": "code",
   "execution_count": 15,
   "id": "4c548b24",
   "metadata": {},
   "outputs": [
    {
     "name": "stdout",
     "output_type": "stream",
     "text": [
      "Number of features with non-zero feature weights: 20\n"
     ]
    }
   ],
   "source": [
    "#import the library needed\n",
    "from sklearn.linear_model import Lasso\n",
    "\n",
    "#calling the various parameters from previous solutions\n",
    "#using the features before splitting into train and test\n",
    "X=X\n",
    "y=y\n",
    "# Create and fit the Lasso regression model with default values\n",
    "lasso_model = Lasso()\n",
    "lasso_model.fit(X, y)\n",
    "\n",
    "# Get the feature weights (coefficients)\n",
    "feature_weights = lasso_model.coef_\n",
    "\n",
    "# Count the number of features with non-zero feature weights\n",
    "non_zero_features = sum(feature_weights != 0) \n",
    "#since the returned output is a boolean, the sum function will sum all the feature weights which are not zero.\n",
    "\n",
    "print(\"Number of features with non-zero feature weights:\", non_zero_features)\n"
   ]
  },
  {
   "cell_type": "markdown",
   "id": "4912ca6a",
   "metadata": {},
   "source": [
    "### Q10\n",
    "\n",
    "**What is the new RMSE with the Lasso Regression on the test set?**"
   ]
  },
  {
   "cell_type": "code",
   "execution_count": 16,
   "id": "d67341f0",
   "metadata": {},
   "outputs": [
    {
     "name": "stdout",
     "output_type": "stream",
     "text": [
      "Root Mean Square Error (RMSE) with Lasso Regression on the test set: 93.892\n"
     ]
    }
   ],
   "source": [
    "X=X\n",
    "y=y\n",
    "\n",
    "#generating a new split dataset\n",
    "X_train,X_test, y_train, y_test=train_test_split(X,y, test_size=.3, random_state=42)\n",
    "\n",
    "# Assuming you have already split your data into X_train, X_test, y_train, and y_test\n",
    "# Create and train the Lasso Regression model with default values\n",
    "lasso_model = Lasso()\n",
    "lasso_model.fit(X_train, y_train)\n",
    "\n",
    "# Make predictions on the test set\n",
    "y_pred = lasso_model.predict(X_test)\n",
    "\n",
    "# Calculate the RMSE\n",
    "rmse = np.sqrt(mean_squared_error(y_pred, y_test))\n",
    "\n",
    "print(\"Root Mean Square Error (RMSE) with Lasso Regression on the test set:\", round(rmse,3))"
   ]
  }
 ],
 "metadata": {
  "kernelspec": {
   "display_name": "Python 3 (ipykernel)",
   "language": "python",
   "name": "python3"
  },
  "language_info": {
   "codemirror_mode": {
    "name": "ipython",
    "version": 3
   },
   "file_extension": ".py",
   "mimetype": "text/x-python",
   "name": "python",
   "nbconvert_exporter": "python",
   "pygments_lexer": "ipython3",
   "version": "3.9.13"
  }
 },
 "nbformat": 4,
 "nbformat_minor": 5
}
